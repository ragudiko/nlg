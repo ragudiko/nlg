{
 "cells": [
  {
   "cell_type": "markdown",
   "metadata": {},
   "source": [
    "## first we will use nlglib library\n",
    "### note - for simplenlg please refer simplenlg section of this notebook"
   ]
  },
  {
   "cell_type": "code",
   "execution_count": null,
   "metadata": {
    "scrolled": true
   },
   "outputs": [],
   "source": [
    "# https://pypi.org/project/nlglib/\n",
    "!pip install nlglib"
   ]
  },
  {
   "cell_type": "code",
   "execution_count": 64,
   "metadata": {},
   "outputs": [],
   "source": [
    "from nlglib.realisation.simplenlg.realisation import Realiser\n",
    "from nlglib.microplanning import *"
   ]
  },
  {
   "cell_type": "code",
   "execution_count": 65,
   "metadata": {},
   "outputs": [],
   "source": [
    "realise_en = Realiser(host='nlg.kutlak.info', port=40000)\n",
    "realise_es = Realiser(host='nlg.kutlak.info', port=40001)"
   ]
  },
  {
   "cell_type": "code",
   "execution_count": 66,
   "metadata": {},
   "outputs": [
    {
     "name": "stdout",
     "output_type": "stream",
     "text": [
      "María persiguió un mono.\n",
      "La rápida corredora persigue un mono.\n",
      "This example shows how cool simplenlg is.\n",
      "Deepesh Bhargava IBM Advocate conducts Blockachain session.\n"
     ]
    }
   ],
   "source": [
    "def main():\n",
    "    p = Clause(\"María\", \"perseguir\", \"un mono\")\n",
    "    p['TENSE'] = 'PAST'\n",
    "    # expected = 'María persigue un mono.'\n",
    "    print(realise_es(p))\n",
    "    p = Clause(NP(\"la\", \"rápida\", \"corredora\"), VP(\"perseguir\"), NP(\"un\", \"mono\"))\n",
    "    subject = NP(\"la\", \"corredora\")\n",
    "    objekt = NP(\"un\", \"mono\")\n",
    "    verb = VP(\"perseguir\")\n",
    "    subject.premodifiers.append(\"rápida\")\n",
    "    p.subject = subject\n",
    "    p.predicate = verb\n",
    "    p.object = objekt\n",
    "    # expected = 'La rápida corredora persigue un mono.'\n",
    "    print(realise_es(p))\n",
    "    p = Clause(NP('this', 'example'), VP('show', 'how cool simplenlg is'))\n",
    "    # expected = This example shows how cool simplenlg is.\n",
    "    print(realise_en(p))\n",
    "    \n",
    "    p = Clause(NP('Deepesh Bhargava', 'IBM Advocate'), VP('conduct', 'Blockachain session'))\n",
    "    print(realise_en(p))\n",
    "\n",
    "\n",
    "if __name__ == '__main__':\n",
    "    main()"
   ]
  },
  {
   "cell_type": "markdown",
   "metadata": {},
   "source": [
    "# Simplenlg "
   ]
  },
  {
   "cell_type": "code",
   "execution_count": null,
   "metadata": {},
   "outputs": [],
   "source": [
    "# https://github.com/bjascob/pySimpleNLG\n",
    "!pip install simplenlg\n"
   ]
  },
  {
   "cell_type": "code",
   "execution_count": 68,
   "metadata": {},
   "outputs": [],
   "source": [
    "from simplenlg.realiser.english.Realiser    import *\n",
    "from simplenlg.phrasespec import *\n",
    "#from nlglib.microplanning import *"
   ]
  },
  {
   "cell_type": "code",
   "execution_count": 69,
   "metadata": {},
   "outputs": [],
   "source": [
    "#!pip install markover"
   ]
  },
  {
   "cell_type": "markdown",
   "metadata": {},
   "source": [
    "# Sample examples"
   ]
  },
  {
   "cell_type": "code",
   "execution_count": 70,
   "metadata": {},
   "outputs": [],
   "source": [
    "from simplenlg import NLGFactory\n",
    "from simplenlg import Lexicon\n",
    "from simplenlg import Realiser as realiser\n",
    "from simplenlg.phrasespec import *"
   ]
  },
  {
   "cell_type": "code",
   "execution_count": 71,
   "metadata": {},
   "outputs": [
    {
     "name": "stdout",
     "output_type": "stream",
     "text": [
      "Rajesh writes the blog.\n"
     ]
    }
   ],
   "source": [
    "lexicon    = Lexicon.getDefaultLexicon()\n",
    "nlgFactory = NLGFactory(lexicon)\n",
    "realiser   = Realiser(lexicon)\n",
    "\n",
    "sentence1 = nlgFactory.createSentence()\n",
    "\n",
    "clause_1 = nlgFactory.createClause();\n",
    "#subject1 = nlgFactory._createNP1(\"Rajesh\")\n",
    "subject1 = nlgFactory.createNounPhrase(\"Rajesh\")\n",
    "\n",
    "object1 = nlgFactory.createNounPhrase(\"the blog\")\n",
    "verb = nlgFactory.createVerbPhrase(\"write\")\n",
    "clause_1.setSubject(subject1)\n",
    "clause_1.setObject(object1)\n",
    "clause_1.setVerb(verb)\n",
    "\n",
    "sentence1.addComponent(clause_1)\n",
    "elements = [sentence1]\n",
    "print(realiser.realise(sentence1))\n"
   ]
  },
  {
   "cell_type": "code",
   "execution_count": 72,
   "metadata": {},
   "outputs": [
    {
     "name": "stdout",
     "output_type": "stream",
     "text": [
      "Rajesh and team member Ramesh write the blog.\n"
     ]
    }
   ],
   "source": [
    "clause_2 = nlgFactory.createClause()\n",
    "subject2 = nlgFactory.createNounPhrase(\"team member\", \"Ramesh\")\n",
    "subject = nlgFactory.createCoordinatedPhrase(subject1, subject2) \n",
    "clause_2.setSubject(subject)\n",
    "clause_2.setObject(object1)\n",
    "clause_2.setVerb(verb)\n",
    "\n",
    "sentence2 = nlgFactory.createSentence()\n",
    "sentence2.addComponent(clause_2)\n",
    "\n",
    "print(realiser.realise(sentence2))"
   ]
  },
  {
   "cell_type": "code",
   "execution_count": 73,
   "metadata": {
    "scrolled": true
   },
   "outputs": [
    {
     "name": "stdout",
     "output_type": "stream",
     "text": [
      "Rajesh and team member Ramesh write the blog, create pattern or tutorials.\n"
     ]
    }
   ],
   "source": [
    "clause_3 = nlgFactory.createClause()\n",
    "object2 = nlgFactory.createNounPhrase(\"create pattern\")\n",
    "obj = nlgFactory.createCoordinatedPhrase(object1, object2)\n",
    "obj.addCoordinate(\"tutorials\")\n",
    "obj.setFeature(Feature.CONJUNCTION, \"or\") ## if this is commented then you will get and instead of or\n",
    "clause_3.setSubject(subject)\n",
    "clause_3.setVerb(verb)\n",
    "clause_3.setObject(obj);\n",
    "\n",
    "sentence3 = nlgFactory.createSentence()\n",
    "sentence3.addComponent(clause_3)\n",
    "print(realiser.realise(sentence3))"
   ]
  },
  {
   "cell_type": "markdown",
   "metadata": {},
   "source": [
    "## Simplenlg demo: referenced in article \"Generate newsletter automatically using NLG part -1\""
   ]
  },
  {
   "cell_type": "markdown",
   "metadata": {},
   "source": [
    "## Explore wrike report"
   ]
  },
  {
   "cell_type": "code",
   "execution_count": 74,
   "metadata": {},
   "outputs": [],
   "source": [
    "from simplenlg import NLGFactory\n",
    "from simplenlg import Lexicon\n",
    "#from simplenlg import Realiser as realiser\n",
    "from simplenlg.realiser.english.Realiser import *\n",
    "from simplenlg.phrasespec import *"
   ]
  },
  {
   "cell_type": "code",
   "execution_count": 75,
   "metadata": {},
   "outputs": [],
   "source": [
    "import pandas as pd\n",
    "import numpy as np"
   ]
  },
  {
   "cell_type": "code",
   "execution_count": 76,
   "metadata": {},
   "outputs": [
    {
     "name": "stdout",
     "output_type": "stream",
     "text": [
      "                                               Title Custom status  \\\n",
      "0  XXX - Enterprise Design Thinking workshop - Ba...        Active   \n",
      "1                Serverless Days - Jaipur - 02/17/18        Active   \n",
      "2  Generation of Newsletter using Natural Languag...     Completed   \n",
      "\n",
      "                    Assigned To Start Date         Duration Duration (Hours)  \\\n",
      "0                 sg@in.ibm.com 2019-01-25            1 day         08:00:00   \n",
      "1  aa@in.ibm.com, bb@in.ibm.com 2019-02-17            1 day         08:00:00   \n",
      "2    rajesh.gudikoti@in.ibm.com 2019-02-20  1 hour, 30 min.         01:30:00   \n",
      "\n",
      "   Effort  Time Spent (Hours)   End Date  Depends On  ...  blog post url  \\\n",
      "0     NaN                 NaN 2019-01-25         NaN  ...            NaN   \n",
      "1     NaN                 NaN 2019-02-17         NaN  ...            NaN   \n",
      "2     NaN                 NaN 2019-02-20         NaN  ...            NaN   \n",
      "\n",
      "  livestream url Coders Recruited - Estimate  \\\n",
      "0            NaN                         NaN   \n",
      "1            NaN                         NaN   \n",
      "2            NaN                         NaN   \n",
      "\n",
      "                                        Tech Content Attendance External Zoom  \\\n",
      "0                                                NaN                      NaN   \n",
      "1                                                NaN                      NaN   \n",
      "2  cloud,container-orchestration,containers,devop...                      NaN   \n",
      "\n",
      "  Code Contributed Promotional Submitted  Content Submitted  Social Media  \\\n",
      "0              NaN                   NaN                NaN           NaN   \n",
      "1              NaN                   NaN                NaN           NaN   \n",
      "2              NaN                   NaN                NaN           NaN   \n",
      "\n",
      "   help wanted  \n",
      "0          NaN  \n",
      "1          NaN  \n",
      "2          NaN  \n",
      "\n",
      "[3 rows x 49 columns]\n"
     ]
    }
   ],
   "source": [
    "xl = pd.ExcelFile(\"/Users/rajeshgudikoti/Documents/rajesh/learning/nlp/nlg/Wrike Report-Anthill-Inside-2019.xls\")\n",
    "#print(xl.sheet_names)\n",
    "df = xl.parse()\n",
    "print(df.head(4)[:3])"
   ]
  },
  {
   "cell_type": "code",
   "execution_count": 77,
   "metadata": {},
   "outputs": [
    {
     "name": "stdout",
     "output_type": "stream",
     "text": [
      "                                               Title Custom status  \\\n",
      "2  Generation of Newsletter using Natural Languag...     Completed   \n",
      "3  Making Your Private Cloud DevOps Ready - Mumba...     Completed   \n",
      "\n",
      "                  Assigned To Start Date         Duration Duration (Hours)  \\\n",
      "2  rajesh.gudikoti@in.ibm.com 2019-02-20  1 hour, 30 min.         01:30:00   \n",
      "3               rd@in.ibm.com 2019-02-22            1 day         08:00:00   \n",
      "\n",
      "   Effort  Time Spent (Hours)   End Date  Depends On  ...  blog post url  \\\n",
      "2     NaN                 NaN 2019-02-20         NaN  ...            NaN   \n",
      "3     NaN                 NaN 2019-02-22         NaN  ...            NaN   \n",
      "\n",
      "  livestream url Coders Recruited - Estimate  \\\n",
      "2            NaN                         NaN   \n",
      "3            NaN                         NaN   \n",
      "\n",
      "                                        Tech Content Attendance External Zoom  \\\n",
      "2  cloud,container-orchestration,containers,devop...                      NaN   \n",
      "3                                                NaN                      NaN   \n",
      "\n",
      "  Code Contributed Promotional Submitted  Content Submitted  Social Media  \\\n",
      "2              NaN                   NaN                NaN           NaN   \n",
      "3              NaN                   NaN                NaN           NaN   \n",
      "\n",
      "   help wanted  \n",
      "2          NaN  \n",
      "3          NaN  \n",
      "\n",
      "[2 rows x 49 columns]\n"
     ]
    }
   ],
   "source": [
    "data = df.loc[(df['Custom status'] == 'Completed')] # & (df['Assigned To'] =='Sudharshan Govindan <sudharshan.govindan@in.ibm.com>')]\n",
    "#print(data)\n",
    "#print('*******')\n",
    "#print(data['Assigned To'].values)\n",
    "#type(data['Assigned To'].values)\n",
    "print(data.head()[:2])\n"
   ]
  },
  {
   "cell_type": "code",
   "execution_count": 78,
   "metadata": {},
   "outputs": [],
   "source": [
    "lexicon    = Lexicon.getDefaultLexicon()\n",
    "nlgFactory = NLGFactory(lexicon)\n",
    "realiser   = Realiser(lexicon)\n",
    "\n",
    "sentence = nlgFactory.createSentence()\n",
    "clause = nlgFactory.createClause();\n",
    "\n",
    "#sentence1 =[0,1]\n",
    "#sentence2 =[0,1]\n"
   ]
  },
  {
   "cell_type": "code",
   "execution_count": 79,
   "metadata": {},
   "outputs": [
    {
     "name": "stdout",
     "output_type": "stream",
     "text": [
      "Rajesh Gudikoti<rajesh.gudikoti@in.ibm.com> conducted \"Generation of Newsletter using Natural Language Generation \" Webinar on 2019-02-20T00:00:00.000000000.\n"
     ]
    }
   ],
   "source": [
    "#assigned_to = data['Assigned To']\n",
    "#assigned_to = data['Assigned To'].astype('str').tail(1).tolist()\n",
    "\n",
    "#converting to string series \n",
    "#print('title ', data[\"Title\"])\n",
    "#title= data[\"Title\"].to_string()\n",
    "#assigned_to= data[\"Assigned To\"].to_string()\n",
    "#speakers= data[\"Speakers\"].to_string()\n",
    "#start_date= data[\"Start Date\"].to_string()\n",
    "\n",
    "#print(type(data[\"Assigned To\"].to_string()), type(assigned_to))\n",
    "\n",
    "title= data[\"Title\"].values\n",
    "assigned_to = data['Assigned To'].values\n",
    "speakers = data[\"Speakers\"].values\n",
    "start_date= data[\"Start Date\"].values\n",
    "project_event_type = data[\"Project/Event Type\"].values\n",
    "event_project_city = data[\"Event/Project City\"].values\n",
    "developers_reached_actual = data[\"Developers Reached - Actual\"].values\n",
    "#print(speakers[1])\n",
    "\n",
    "#print('\\n ***** \\n title:', title, ' assigned_to:', assigned_to, ' speakers:', speakers, ' start_date:',start_date)\n",
    "#print(type(start_date[1]), start_date[1], np.datetime_as_string(start_date[1]), type(np.datetime_as_string(start_date[1])))\n",
    "\n",
    "index = 0 # ************  change below cell also\n",
    "\n",
    "sentence_1 = nlgFactory.createSentence()\n",
    "clause_1 = nlgFactory.createClause();\n",
    "\n",
    "sub1 = nlgFactory.createNounPhrase(speakers[index])\n",
    "#print('\\n\\n**********\\n\\n',speakers[index])\n",
    "verb1 = nlgFactory.createVerbPhrase(\"conduct\")\n",
    "verb1.setFeature(Feature.FORM, Form.PAST_PARTICIPLE)\n",
    "#clause.setFeature(Feature.TENSE, Tense.PAST)\n",
    "\n",
    "\n",
    "title_text=title[index]\n",
    "#print(title_text)\n",
    "ext = \"-\"\n",
    "\n",
    "title_extract = title_text[:title_text.find(ext) + len(ext)-1]\n",
    "#print ('\\n **** \\n',title_extract)\n",
    "\n",
    "obj1 = nlgFactory.createNounPhrase('\"' + title_extract + '\"' + ' ' + project_event_type[index])\n",
    "#obj2 = nlgFactory.createNounPhrase(project_event_type[0])\n",
    "#sub2 = nlgFactory.createNounPhrase(assigned_to[0])\n",
    "\n",
    "on_preposition = nlgFactory.createPrepositionPhrase(\"on\")\n",
    "startdate = nlgFactory.createNounPhrase(np.datetime_as_string(start_date[index]))  # ***\n",
    "#nlgFactory.createNounPhrase(start_date[1])\n",
    "\n",
    "on_preposition.addComplement(startdate)\n",
    "    \n",
    "clause_1.setSubject(sub1)\n",
    "clause_1.setVerb(verb1)\n",
    "clause_1.setObject(obj1);\n",
    "\n",
    "clause_1.addComplement(on_preposition);\n",
    "\n",
    "if(project_event_type[index] !='Webinar'):\n",
    "    at_preposition = nlgFactory.createPrepositionPhrase(\"at\");\n",
    "    location = nlgFactory.createNounPhrase(event_project_city[index])\n",
    "    at_preposition.addComplement(location)\n",
    "    clause_1.addComplement(at_preposition)\n",
    "\n",
    "\n",
    "sentence_1.addComponent(clause_1)\n",
    "\n",
    "print(realiser.realise(sentence_1))\n",
    "\n",
    "\n",
    "\n",
    "#print(sentence1[index])\n",
    "#print(sentence1)\n",
    "\n"
   ]
  },
  {
   "cell_type": "code",
   "execution_count": 80,
   "metadata": {},
   "outputs": [
    {
     "name": "stdout",
     "output_type": "stream",
     "text": [
      "The number of developers attended is 200.\n"
     ]
    }
   ],
   "source": [
    "clause_2 = nlgFactory.createClause();\n",
    "\n",
    "sub2 = nlgFactory.createNounPhrase('number of developers')\n",
    "sub2.setDeterminer(\"the\")\n",
    "#sub2.setPlural(True)\n",
    "verb2 = nlgFactory.createVerbPhrase(\"attend\")\n",
    "verb2.setFeature(Feature.FORM, Form.PAST_PARTICIPLE)\n",
    "clause_2.setFeature(Feature.TENSE, Tense.PAST)\n",
    "\n",
    "#clause.setFeature(Feature.NUMBER, 11)\n",
    "is_preposition = nlgFactory.createPrepositionPhrase(\"is\");\n",
    "obj2 = nlgFactory.createNounPhrase(developers_reached_actual[index].astype(str)) # ***\n",
    "is_preposition.addComplement(obj2)\n",
    "\n",
    "\n",
    "clause_2.setSubject(sub2)\n",
    "clause_2.setVerb(verb2)\n",
    "#clause_2.setObject(obj2);\n",
    "\n",
    "clause_2.addComplement(is_preposition);\n",
    "\n",
    "sentence_2 = nlgFactory.createSentence()\n",
    "sentence_2.addComponent(clause_2)\n",
    "#print(realiser.realise(sentence_2))\n",
    "\n",
    "print(realiser.realise(sentence_2)) \n",
    "\n",
    "#print(sentence1[index])\n",
    "#print(sentence2)"
   ]
  },
  {
   "cell_type": "code",
   "execution_count": 81,
   "metadata": {},
   "outputs": [
    {
     "name": "stdout",
     "output_type": "stream",
     "text": [
      "Rajesh Gudikoti<rajesh.gudikoti@in.ibm.com> conducted \"Generation of Newsletter using Natural Language Generation \" Webinar on 2019-02-20T00:00:00.000000000. The number of developers attended is 200.\n",
      "\n",
      "\n"
     ]
    }
   ],
   "source": [
    "para1 = nlgFactory.createParagraph()\n",
    "para1.addComponent(sentence_1)\n",
    "para1.addComponent(sentence_2)\n",
    "#print('\\n \\n developer advocacy newsletter creation *************\\n')\n",
    "\n",
    "#print(realiser.realise(para1).getRealisation())\n",
    "\n",
    "print(realiser.realise(para1).getRealisation())\n",
    "\n",
    "#print(para_list[index])\n"
   ]
  },
  {
   "cell_type": "code",
   "execution_count": 82,
   "metadata": {},
   "outputs": [
    {
     "name": "stdout",
     "output_type": "stream",
     "text": [
      "Sudharshan and Raghavendra conducted Making Your Private Cloud DevOps Ready - Mumbai - 02/22/2019 on Meetup on. The number of developers attended is 30.\n",
      "\n",
      "\n"
     ]
    }
   ],
   "source": [
    "# It is hardcoded for demo purpose.\n",
    "\n",
    "hardcoded_sentence3 = \"Sudharshan and Raghavendra conducted Making Your Private Cloud DevOps Ready - Mumbai - 02/22/2019 on Meetup on\"\n",
    "hardcoded_sentence4 = \"The number of developers attended is 30.\"\n",
    "sentence_3 = nlgFactory.createStringElement(hardcoded_sentence3)\n",
    "sentence_4 = nlgFactory.createStringElement(hardcoded_sentence4)\n",
    "\n",
    "#sentence_3.addComponent(clause_2) # since it is harcoded no clause/tense setting required\n",
    "para2 = nlgFactory.createParagraph()\n",
    "para2.addComponent(sentence_3)\n",
    "para2.addComponent(sentence_4)\n",
    "#print('\\n \\n developer advocacy newsletter creation *************\\n')\n",
    "\n",
    "print(realiser.realise(para2).getRealisation())\n",
    "\n",
    "#print(para_list[index])"
   ]
  },
  {
   "cell_type": "markdown",
   "metadata": {},
   "source": [
    "# Creating Section"
   ]
  },
  {
   "cell_type": "code",
   "execution_count": 83,
   "metadata": {},
   "outputs": [
    {
     "name": "stdout",
     "output_type": "stream",
     "text": [
      "Rajesh Gudikoti<rajesh.gudikoti@in.ibm.com> conducted \"Generation of Newsletter using Natural Language Generation \" Webinar on 2019-02-20T00:00:00.000000000. The number of developers attended is 200.\n",
      "\n",
      "\n"
     ]
    }
   ],
   "source": [
    "section1 = nlgFactory.createSection()\n",
    "#print(type(para1), type(para[0]))\n",
    "section1.addComponent(para1)\n",
    "print(realiser.realise(section1).getRealisation())"
   ]
  },
  {
   "cell_type": "code",
   "execution_count": 84,
   "metadata": {},
   "outputs": [
    {
     "name": "stdout",
     "output_type": "stream",
     "text": [
      "Sudharshan and Raghavendra conducted Making Your Private Cloud DevOps Ready - Mumbai - 02/22/2019 on Meetup on. The number of developers attended is 30.\n",
      "\n",
      "\n"
     ]
    }
   ],
   "source": [
    "section2 = nlgFactory.createSection()\n",
    "#print(type(para1), type(para[0]))\n",
    "section2.addComponent(para2)\n",
    "print(realiser.realise(section2).getRealisation())"
   ]
  },
  {
   "cell_type": "markdown",
   "metadata": {},
   "source": [
    "# Creating multiple Sections"
   ]
  },
  {
   "cell_type": "code",
   "execution_count": 85,
   "metadata": {},
   "outputs": [
    {
     "name": "stdout",
     "output_type": "stream",
     "text": [
      "Developer Newsletter Document\n",
      "\n",
      "Rajesh Gudikoti<rajesh.gudikoti@in.ibm.com> conducted \"Generation of Newsletter using Natural Language Generation \" Webinar on 2019-02-20T00:00:00.000000000. The number of developers attended is 200.\n",
      "\n",
      "Sudharshan and Raghavendra conducted Making Your Private Cloud DevOps Ready - Mumbai - 02/22/2019 on Meetup on. The number of developers attended is 30.\n",
      "\n",
      "\n"
     ]
    }
   ],
   "source": [
    "testDocument = nlgFactory.createDocument(\"Developer Newsletter Document\")\n",
    "#testSection = nlgFactory.createSection(\"Event 1-----\")\n",
    "#testParagraph = nlgFactory.createParagraph()\n",
    "#testSentence = nlgFactory.createSentence('This is first developer newsletter')\n",
    "\n",
    "#testParagraph.addComponent(testSentence)\n",
    "#testSection.addComponent(testParagraph)\n",
    "#testDocument.addComponent(testSection)\n",
    "\n",
    "testDocument.addComponent(section1)\n",
    "testDocument.addComponent(section2)\n",
    "\n",
    "print(realiser.realise(testDocument).getRealisation())"
   ]
  },
  {
   "cell_type": "code",
   "execution_count": 86,
   "metadata": {},
   "outputs": [],
   "source": [
    "# print(realiser.setFormatter(HTMLFormatter())) # html formatter available in java version"
   ]
  },
  {
   "cell_type": "code",
   "execution_count": null,
   "metadata": {},
   "outputs": [],
   "source": []
  }
 ],
 "metadata": {
  "kernelspec": {
   "display_name": "Python 3",
   "language": "python",
   "name": "python3"
  },
  "language_info": {
   "codemirror_mode": {
    "name": "ipython",
    "version": 3
   },
   "file_extension": ".py",
   "mimetype": "text/x-python",
   "name": "python",
   "nbconvert_exporter": "python",
   "pygments_lexer": "ipython3",
   "version": "3.7.4"
  }
 },
 "nbformat": 4,
 "nbformat_minor": 2
}
